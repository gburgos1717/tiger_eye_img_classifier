{
 "cells": [
  {
   "cell_type": "markdown",
   "metadata": {},
   "source": [
    "## Imports"
   ]
  },
  {
   "cell_type": "code",
   "execution_count": 7,
   "metadata": {},
   "outputs": [],
   "source": [
    "from selenium import webdriver\n",
    "from selenium.webdriver.common.keys import Keys\n",
    "import time\n",
    "import os"
   ]
  },
  {
   "cell_type": "markdown",
   "metadata": {},
   "source": [
    "## Defined Function To Access Google Images"
   ]
  },
  {
   "cell_type": "code",
   "execution_count": 14,
   "metadata": {},
   "outputs": [],
   "source": [
    "def google_images(search,num_of_images,folder_name):\n",
    "    # use selenium.webdriver to access google images\n",
    "    driver = webdriver.Chrome(r\"C:\\Users\\gburg\\Desktop\\Scrape\\chromedriver.exe\") # used \"r\" before string path to read in raw code\n",
    "    driver.get(\"https://www.google.com/\")# google website link\n",
    "    \n",
    "    box = driver.find_element_by_xpath('/html/body/div[1]/div[3]/form/div[1]/div[1]/div[1]/div/div[2]/input')\n",
    "    box.send_keys(search)\n",
    "    box.send_keys(Keys.ENTER)\n",
    "    driver.find_element_by_xpath('//*[@id=\"hdtb-msb\"]/div[1]/div/div[2]/a').click() # click on image tab, the last div[2] may be changed depending how google updates html\n",
    "\n",
    "    # scroll down page to access all image results\n",
    "    last_height = driver.execute_script('return document.body.scrollHeight')\n",
    "    while True:\n",
    "        driver.execute_script('window.scrollTo(0, document.body.scrollHeight)')\n",
    "        time.sleep(2)\n",
    "        new_height = driver.execute_script('return document.body.scrollHeight')\n",
    "        try:\n",
    "            driver.find_element_by_xpath('//*[@id=\"islmp\"]/div/div/div/div/div[4]/div[2]/input').click()\n",
    "            time.sleep(2)\n",
    "        except:\n",
    "            pass\n",
    "        if new_height == last_height:\n",
    "            break\n",
    "        last_height = new_height\n",
    "    \n",
    "    # make new folder by search \n",
    "    file_path = r\"C:/Users/gburg/Desktop/DSI/submissions/Capstone/images/\"\n",
    "    \n",
    "    \n",
    "    os.makedirs(file_path+folder_name, exist_ok=True)\n",
    "    \n",
    "    # for loop to screenshot each photo from Google images results and download images to folder on local machine\n",
    "    for i in range(1,num_of_images+1):\n",
    "        try:\n",
    "            # assign 'i' to second /div[1] to loop through each image on google and click on it\n",
    "            driver.find_element_by_xpath(f'//*[@id=\"islrg\"]/div[1]/div[{i}]/a[1]/div[1]/img').click() # click on the image\n",
    "            \n",
    "            # screenshot() will screenshot the images and save into folder\n",
    "            img_name = search.replace(\" \", \"_\") # replace spaces in search with \"_\" and label each image\n",
    "            driver.find_element_by_xpath(f'//*[@id=\"Sva75c\"]/div/div/div[3]/div[2]/c-wiz/div/div[1]/div[1]/div/div[2]/a/img').screenshot(f\"./images/{folder_name}/{img_name}_{i}.png\")\n",
    "        except:\n",
    "            pass"
   ]
  },
  {
   "cell_type": "code",
   "execution_count": 9,
   "metadata": {},
   "outputs": [],
   "source": [
    "# google_images(search='blue tiger eye', num_of_images=1000, folder_name=\"blue_tiger\")"
   ]
  },
  {
   "cell_type": "code",
   "execution_count": 10,
   "metadata": {},
   "outputs": [],
   "source": [
    "# google_images(search=\"raw blue tiger's eye\", num_of_images=1000, folder_name=\"raw_blue_tiger\")"
   ]
  },
  {
   "cell_type": "code",
   "execution_count": 11,
   "metadata": {},
   "outputs": [],
   "source": [
    "# google_images(search=\"raw red tiger's eye\", num_of_images=1000, folder_name=\"raw_red_tiger\")"
   ]
  },
  {
   "cell_type": "code",
   "execution_count": 12,
   "metadata": {},
   "outputs": [],
   "source": [
    "# google_images(search=\"raw golden tiger's eye\", num_of_images=1000, folder_name=\"raw_gold_tiger\")"
   ]
  },
  {
   "cell_type": "code",
   "execution_count": 15,
   "metadata": {},
   "outputs": [],
   "source": [
    "google_images(search=\"ox's eye stone\", num_of_images=1000, folder_name=\"ox_red_tiger\")"
   ]
  },
  {
   "cell_type": "code",
   "execution_count": 16,
   "metadata": {},
   "outputs": [],
   "source": [
    "google_images(search=\"dragon tiger's eye stone mineral\", num_of_images=1000, folder_name=\"dragon_red_tiger\")"
   ]
  },
  {
   "cell_type": "code",
   "execution_count": 17,
   "metadata": {},
   "outputs": [],
   "source": [
    "google_images(search=\"bull's eye stone mineral\", num_of_images=1000, folder_name=\"bull_red_tiger\")"
   ]
  },
  {
   "cell_type": "code",
   "execution_count": null,
   "metadata": {},
   "outputs": [],
   "source": []
  }
 ],
 "metadata": {
  "kernelspec": {
   "display_name": "Python 3",
   "language": "python",
   "name": "python3"
  },
  "language_info": {
   "codemirror_mode": {
    "name": "ipython",
    "version": 3
   },
   "file_extension": ".py",
   "mimetype": "text/x-python",
   "name": "python",
   "nbconvert_exporter": "python",
   "pygments_lexer": "ipython3",
   "version": "3.8.5"
  }
 },
 "nbformat": 4,
 "nbformat_minor": 4
}
