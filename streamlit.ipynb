{
 "cells": [
  {
   "cell_type": "markdown",
   "metadata": {},
   "source": [
    "# Imports"
   ]
  },
  {
   "cell_type": "markdown",
   "metadata": {},
   "source": [
    "Created and wrote streamlit app into a python file"
   ]
  },
  {
   "cell_type": "code",
   "execution_count": 1,
   "metadata": {},
   "outputs": [
    {
     "name": "stdout",
     "output_type": "stream",
     "text": [
      "Overwriting tiger_app.py\n"
     ]
    }
   ],
   "source": [
    "%%writefile tiger_app.py\n",
    "\n",
    "\n",
    "\n",
    "\n",
    "import streamlit as st #import streamlit\n",
    "\n",
    "# import tensorflow as tf\n",
    "from tensorflow.keras.models import load_model\n",
    "\n",
    "import cv2 # opencv\n",
    "from PIL import Image, ImageOps # pillow -> PIL(fork)\n",
    "import numpy as np # numpy\n",
    "\n",
    "\n",
    "# attempt to forcast errors and ensure code will run  \n",
    "# st.set_option('depreecation.showfileUploaderEncoding', False)\n",
    "st.cache(allow_output_mutation=True)\n",
    "\n",
    "\n",
    "# Load in model and write a header to streamlit page\n",
    "model = load_model('./saved_model/model_13epoch.hdf5')\n",
    "st.write(\n",
    "\"\"\"\n",
    "# Tiger Eye Gemstone Classification\n",
    "## Red | Blue | Gold\n",
    "\"\"\")\n",
    "\n",
    "\n",
    "# Create a file uploader and predict images that are uploaded\n",
    "file = st.file_uploader(\"Please upload your tiger eye image\", type=['png','jpg'])\n",
    "\n",
    "# predict_image function will upload images and convert them into arrays\n",
    "# arrays will be viewed as data points for our model to make predictions\n",
    "def predict_image(data,model):\n",
    "    size = (200,200) # ensure size is equivalent to size predicted in cnn model\n",
    "    image = ImageOps.fit(data, size, Image.ANTIALIAS)\n",
    "    img = np.asarray(image)\n",
    "    img_reshape = img[np.newaxis, ...] # reshaping to a 4 dimension array\n",
    "    predict_img = model.predict(img_reshape)\n",
    "    return predict_img\n",
    "\n",
    "# execution flow for our streamlit app\n",
    "if file is None: # for when there is no image uploaded\n",
    "    st.text(\"Please upload an image file. Only 'png' and 'jpg' formats accepted.\" )\n",
    "else: # for when an image is uploaded\n",
    "    image = Image.open(file)\n",
    "    st.image(image, use_column_width=True)\n",
    "    predictions = predict_image(image,model)\n",
    "    tiger_color_class = ['Red Tiger Eye', 'Blue Tiger Eye', 'Gold Tiger Eye']\n",
    "    output = f' ### The gemstone in this image appears to be... {tiger_color_class[np.argmax(predictions)]}.'\n",
    "    st.success(output)"
   ]
  },
  {
   "cell_type": "markdown",
   "metadata": {},
   "source": [
    "#### Run Streamlit through command line. Stop the kernel once done viewing app."
   ]
  },
  {
   "cell_type": "code",
   "execution_count": null,
   "metadata": {},
   "outputs": [],
   "source": [
    "!streamlit run tiger_app.py"
   ]
  },
  {
   "cell_type": "code",
   "execution_count": null,
   "metadata": {},
   "outputs": [],
   "source": []
  }
 ],
 "metadata": {
  "kernelspec": {
   "display_name": "Python 3",
   "language": "python",
   "name": "python3"
  },
  "language_info": {
   "codemirror_mode": {
    "name": "ipython",
    "version": 3
   },
   "file_extension": ".py",
   "mimetype": "text/x-python",
   "name": "python",
   "nbconvert_exporter": "python",
   "pygments_lexer": "ipython3",
   "version": "3.8.5"
  }
 },
 "nbformat": 4,
 "nbformat_minor": 4
}
